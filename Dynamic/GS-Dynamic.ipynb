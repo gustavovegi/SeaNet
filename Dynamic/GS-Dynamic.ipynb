{
 "cells": [
  {
   "cell_type": "code",
   "execution_count": 1,
   "metadata": {},
   "outputs": [
    {
     "name": "stdout",
     "output_type": "stream",
     "text": [
      "Note: you may need to restart the kernel to use updated packages.\n"
     ]
    },
    {
     "name": "stderr",
     "output_type": "stream",
     "text": [
      "ERROR: Could not find a version that satisfies the requirement sklearn.cluster (from versions: none)\n",
      "ERROR: No matching distribution found for sklearn.cluster\n"
     ]
    }
   ],
   "source": [
    "%pip install sklearn.cluster\n"
   ]
  },
  {
   "cell_type": "code",
   "execution_count": 2,
   "metadata": {},
   "outputs": [
    {
     "name": "stdout",
     "output_type": "stream",
     "text": [
      "Posições ótimas para os sensores: [[2.88429250e+05 3.09472500e+04]\n",
      " [2.11321300e+06 2.13213211e+08]\n",
      " [2.12300000e+03 1.21312130e+07]]\n",
      "A distância entre (12312312.0, 32132113.0) e (21321321.0, 3121131213.0) é 3089012237.28\n"
     ]
    }
   ],
   "source": [
    "from sklearn.cluster import KMeans  # Para utilizar o algoritmo KMeans\n",
    "import numpy as np  # Para trabalhar com arrays multidimensionais\n",
    "import math  # Para operações matemáticas básicas\n",
    "\n",
    "# Função para distribuir sensores\n",
    "def distribuir_sensores(pontos, num_sensores):\n",
    "    # Verifica se o número de sensores não excede o número de pontos\n",
    "    if num_sensores > len(pontos):\n",
    "        raise ValueError(\"O número de sensores não pode exceder o número de pontos.\")\n",
    "\n",
    "    # Transforma os pontos em um array NumPy para uso no KMeans\n",
    "    dados = np.array(pontos)\n",
    "\n",
    "    # Cria e ajusta o modelo KMeans com o número de sensores desejado\n",
    "    modelo_kmeans = KMeans(n_clusters=num_sensores, random_state=0)\n",
    "    modelo_kmeans.fit(dados)\n",
    "\n",
    "    # Obtém os centros dos clusters, que representam as posições ótimas dos sensores\n",
    "    centros_dos_clusters = modelo_kmeans.cluster_centers_\n",
    "\n",
    "    # Retorna as posições ótimas dos sensores\n",
    "    return centros_dos_clusters\n",
    "\n",
    "# Função para calcular a distância Euclidiana entre dois pontos\n",
    "def calcular_distancia(p1, p2):\n",
    "    # Utiliza a fórmula da distância Euclidiana\n",
    "    return math.sqrt((p1[0] - p2[0])**2 + (p1[1] - p2[1])**2)\n",
    "\n",
    "# Solicita os pontos ao usuário\n",
    "def obter_pontos():\n",
    "    pontos = []\n",
    "    num_pontos = int(input(\"Digite a quantidade de pontos: \"))\n",
    "    for _ in range(num_pontos):\n",
    "        while True:\n",
    "            try:\n",
    "                x = float(input(f\"Digite a coordenada x do ponto {_+1}: \"))\n",
    "                y = float(input(f\"Digite a coordenada y do ponto {_+1}: \"))\n",
    "                pontos.append((x, y))\n",
    "                break\n",
    "            except ValueError:\n",
    "                print(\"Entrada inválida. Certifique-se de digitar números float.\")\n",
    "    return pontos\n",
    "\n",
    "# Solicita a quantidade de sensores ao usuário\n",
    "def obter_num_sensores():\n",
    "    while True:\n",
    "        try:\n",
    "            num_sensores = int(input(\"Digite a quantidade de sensores: \"))\n",
    "            if num_sensores <= 0:\n",
    "                raise ValueError\n",
    "            return num_sensores\n",
    "        except ValueError:\n",
    "            print(\"Entrada inválida. Certifique-se de digitar um número inteiro positivo.\")\n",
    "\n",
    "# Solicita os dados do usuário\n",
    "pontos_possiveis = obter_pontos()\n",
    "num_sensores = obter_num_sensores()\n",
    "\n",
    "# Calcula as posições ótimas dos sensores\n",
    "posicoes_sensores = distribuir_sensores(pontos_possiveis, num_sensores)\n",
    "print(\"Posições ótimas para os sensores:\", posicoes_sensores)\n",
    "\n",
    "# Solicita os pontos para calcular a distância\n",
    "while True:\n",
    "    try:\n",
    "        x1 = float(input(\"Digite a coordenada x do ponto A: \"))\n",
    "        y1 = float(input(\"Digite a coordenada y do ponto A: \"))\n",
    "        x2 = float(input(\"Digite a coordenada x do ponto B: \"))\n",
    "        y2 = float(input(\"Digite a coordenada y do ponto B: \"))\n",
    "        ponto_a = (x1, y1)\n",
    "        ponto_b = (x2, y2)\n",
    "        break\n",
    "    except ValueError:\n",
    "        print(\"Entrada inválida. Certifique-se de digitar números float.\")\n",
    "\n",
    "# Calcula a distância entre os pontos\n",
    "distancia = calcular_distancia(ponto_a, ponto_b)\n",
    "print(f\"A distância entre {ponto_a} e {ponto_b} é {distancia:.2f}\")"
   ]
  }
 ],
 "metadata": {
  "kernelspec": {
   "display_name": "Python 3",
   "language": "python",
   "name": "python3"
  },
  "language_info": {
   "codemirror_mode": {
    "name": "ipython",
    "version": 3
   },
   "file_extension": ".py",
   "mimetype": "text/x-python",
   "name": "python",
   "nbconvert_exporter": "python",
   "pygments_lexer": "ipython3",
   "version": "3.11.2"
  }
 },
 "nbformat": 4,
 "nbformat_minor": 2
}
