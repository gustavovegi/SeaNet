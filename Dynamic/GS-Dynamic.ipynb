{
 "cells": [
  {
   "cell_type": "code",
   "execution_count": null,
   "metadata": {},
   "outputs": [],
   "source": [
    "#Função para calcular o valor da area marinha\n"
   ]
  },
  {
   "cell_type": "code",
   "execution_count": 14,
   "metadata": {},
   "outputs": [
    {
     "name": "stdout",
     "output_type": "stream",
     "text": [
      "Note: you may need to restart the kernel to use updated packages.\n"
     ]
    },
    {
     "name": "stderr",
     "output_type": "stream",
     "text": [
      "ERROR: Could not find a version that satisfies the requirement sklearn.cluster (from versions: none)\n",
      "ERROR: No matching distribution found for sklearn.cluster\n",
      "\n",
      "[notice] A new release of pip available: 22.3.1 -> 24.0\n",
      "[notice] To update, run: python.exe -m pip install --upgrade pip\n"
     ]
    }
   ],
   "source": [
    "%pip install sklearn.cluster\n"
   ]
  },
  {
   "cell_type": "code",
   "execution_count": 16,
   "metadata": {},
   "outputs": [
    {
     "ename": "ModuleNotFoundError",
     "evalue": "No module named 'sklearn'",
     "output_type": "error",
     "traceback": [
      "\u001b[1;31m---------------------------------------------------------------------------\u001b[0m",
      "\u001b[1;31mModuleNotFoundError\u001b[0m                       Traceback (most recent call last)",
      "Cell \u001b[1;32mIn[16], line 1\u001b[0m\n\u001b[1;32m----> 1\u001b[0m \u001b[38;5;28;01mfrom\u001b[39;00m \u001b[38;5;21;01msklearn\u001b[39;00m\u001b[38;5;21;01m.\u001b[39;00m\u001b[38;5;21;01mcluster\u001b[39;00m \u001b[38;5;28;01mimport\u001b[39;00m KMeans\n\u001b[0;32m      2\u001b[0m \u001b[38;5;28;01mimport\u001b[39;00m \u001b[38;5;21;01mnumpy\u001b[39;00m \u001b[38;5;28;01mas\u001b[39;00m \u001b[38;5;21;01mnp\u001b[39;00m\n\u001b[0;32m      3\u001b[0m \u001b[38;5;28;01mimport\u001b[39;00m \u001b[38;5;21;01mmath\u001b[39;00m\n",
      "\u001b[1;31mModuleNotFoundError\u001b[0m: No module named 'sklearn'"
     ]
    }
   ],
   "source": [
    "from sklearn.cluster import KMeans\n",
    "import numpy as np\n",
    "import math\n",
    "\n",
    "def distribuirsensores(pontos, num_sensores):\n",
    "    if num_sensores > len(pontos):\n",
    "        raise ValueError(\"O número de sensores não pode exceder o número de pontos.\")\n",
    "\n",
    "    X = np.array(pontos)\n",
    "    kmeans = KMeans(n_clusters=num_sensores, random_state=0).fit(X)\n",
    "    return kmeans.cluster_centers_\n",
    "\n",
    "# Exemplo de uso\n",
    "pontos_possiveis = [(1, 2), (2, 3), (3, 4), (8, 8), (9, 9), (10, 10)]\n",
    "num_sensores = 2\n",
    "posicoes_sensores = distribuirsensores(pontos_possiveis, num_sensores)\n",
    "print(\"Posições ótimas para os sensores:\", posicoes_sensores)\n",
    "\n",
    "def calcular_distancia(ponto1, ponto2):\n",
    "    return math.sqrt((ponto1[0] - ponto2[0])**2 + (ponto1[1] - ponto2[1])**2)\n",
    "\n",
    "# Exemplo de uso\n",
    "ponto_a = (1, 2)\n",
    "ponto_b = (4, 6)\n",
    "distancia = calcular_distancia(ponto_a, ponto_b)\n",
    "print(f\"A distância entre {ponto_a} e {ponto_b} é {distancia:.2f}\")"
   ]
  }
 ],
 "metadata": {
  "language_info": {
   "name": "python"
  }
 },
 "nbformat": 4,
 "nbformat_minor": 2
}
